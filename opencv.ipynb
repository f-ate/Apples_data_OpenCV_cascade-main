{
 "cells": [
  {
   "cell_type": "code",
   "execution_count": 1,
   "id": "7feac678",
   "metadata": {},
   "outputs": [],
   "source": [
    "import tensorflow as tf"
   ]
  },
  {
   "cell_type": "code",
   "execution_count": null,
   "id": "68875c3c",
   "metadata": {},
   "outputs": [],
   "source": [
    "#loading save model\n",
    "model = tf.keras.models.load_model('model.h5')"
   ]
  },
  {
   "cell_type": "code",
   "execution_count": null,
   "id": "c205f396",
   "metadata": {},
   "outputs": [],
   "source": [
    "IMG_HIEGHT = 224\n",
    "IMG_WIDHT = 224\n",
    "from keras.preprocessing.image import array_to_img, img_to_array, load_img\n",
    "test_1 = load_img('download1.jpg',target_size=(IMG_HIEGHT,IMG_WIDHT))\n",
    "test_1"
   ]
  },
  {
   "cell_type": "code",
   "execution_count": null,
   "id": "f0ca75ea",
   "metadata": {},
   "outputs": [],
   "source": [
    "array_1 = img_to_array(test_1)\n",
    "img_test = array_1.reshape(1,224,224,3)\n",
    "classes = ['Fresh','Rotten']\n",
    "classes[int(model.predict(img_test))]"
   ]
  },
  {
   "cell_type": "markdown",
   "id": "fca031e7",
   "metadata": {},
   "source": [
    "# OpenCV"
   ]
  },
  {
   "cell_type": "code",
   "execution_count": null,
   "id": "766d4bf3",
   "metadata": {},
   "outputs": [],
   "source": [
    "import numpy as np\n",
    "import cv2\n",
    "cap = cv2.VideoCapture(1) \n",
    "while(True):\n",
    "    _, frame = cap.read()\n",
    "     \n",
    "    \n",
    "    imgResized = cv2.resize(frame,(224,224))\n",
    "    #print(imgResized.shape)\n",
    "    imgResized = np.asarray(imgResized)\n",
    "    imgResized = imgResized.reshape((1, 224, 224, 3))\n",
    "    print(imgResized.shape)\n",
    "    #imgResized = imgResized.reshape(1,3,224,224).transpose(0,2,3,1)\n",
    "    imgResized = imgResized / 255.0\n",
    "    identity = model.predict(imgResized)\n",
    "    if identity[0][0] > 0.5:\n",
    "        print('ROTTEN')\n",
    "    else:\n",
    "        print('FRESH')\n",
    "    #print(identity[0][0])\n",
    "    cv2.imshow(\"results\",frame)  \n",
    "    # When the below two will be true and will press the 'q' on\n",
    "    # our keyboard, we will break out from the loop\n",
    "      \n",
    "    # # wait 0 will wait for infinitely between each frames. \n",
    "    # 1ms will wait for the specified time only between each frames\n",
    "    if cv2.waitKey(1) & 0xFF == ord('q'):      \n",
    "        break\n",
    "  \n",
    "#close the video file\n",
    "cap.release() \n",
    "  \n",
    "# destroy all the windows that is currently on\n",
    "cv2.destroyAllWindows() "
   ]
  },
  {
   "cell_type": "code",
   "execution_count": null,
   "id": "fa85876a",
   "metadata": {},
   "outputs": [],
   "source": [
    "import numpy as np\n",
    "import cv2\n",
    "cap = cv2.VideoCapture(1) \n",
    "while(True):\n",
    "    _, frame = cap.read()\n",
    "    \n",
    "    roi = cv2.selectROI(frame)\n",
    "    \n",
    "    print(roi)\n",
    "    roi_cropped = img_raw[int(roi[1]):int(roi[1]+roi[3]), int(roi[0]):int(roi[0]+roi[2])]\n",
    "    cv2.imshow(\"ROI\", roi_cropped)\n",
    "    if cv2.waitKey(1) & 0xFF == ord('q'):\n",
    "        break"
   ]
  },
  {
   "cell_type": "code",
   "execution_count": null,
   "id": "40e5f5de",
   "metadata": {},
   "outputs": [],
   "source": [
    "import cv2\n",
    "import numpy as np"
   ]
  },
  {
   "cell_type": "code",
   "execution_count": null,
   "id": "c47f4acf",
   "metadata": {},
   "outputs": [],
   "source": [
    "face_cascade = cv2.CascadeClassifier('cascade.xml')"
   ]
  },
  {
   "cell_type": "code",
   "execution_count": null,
   "id": "f42ae31a",
   "metadata": {},
   "outputs": [],
   "source": [
    "\n",
    "#testing cascad\n",
    "import cv2\n",
    "import numpy as np\n",
    "face_cascade = cv2.CascadeClassifier('new_data_cascade.xml')\n",
    "# To capture video from webcam. \n",
    "cap = cv2.VideoCapture(1)\n",
    "# To use a video file as input \n",
    "# cap = cv2.VideoCapture('filename.mp4')\n",
    "while True:\n",
    "    # Read the frame\n",
    "    _, img = cap.read()\n",
    "\n",
    "    # Convert to grayscale\n",
    "    gray = cv2.cvtColor(img, cv2.COLOR_BGR2GRAY)\n",
    "\n",
    "    # Detect the faces\n",
    "    faces = face_cascade.detectMultiScale(gray, scaleFactor = 5, minNeighbors=91,minSize=(70,78))\n",
    "\n",
    "    # Draw the rectangle around each face\n",
    "    for (x, y, w, h) in faces:\n",
    "        cv2.rectangle(img, (x, y), (x+w, y+h), (255, 0, 0), 2)\n",
    "\n",
    "    # Display\n",
    "    cv2.imshow('img', img)\n",
    "\n",
    "    # Stop if escape key is pressed\n",
    "    k = cv2.waitKey(30) & 0xff\n",
    "    if k==27:\n",
    "        break\n",
    "        \n",
    "# Release the VideoCapture object\n",
    "cap.release()"
   ]
  },
  {
   "cell_type": "code",
   "execution_count": null,
   "id": "2c68887a",
   "metadata": {},
   "outputs": [],
   "source": []
  }
 ],
 "metadata": {
  "kernelspec": {
   "display_name": "Python 3",
   "language": "python",
   "name": "python3"
  },
  "language_info": {
   "codemirror_mode": {
    "name": "ipython",
    "version": 3
   },
   "file_extension": ".py",
   "mimetype": "text/x-python",
   "name": "python",
   "nbconvert_exporter": "python",
   "pygments_lexer": "ipython3",
   "version": "3.6.13"
  }
 },
 "nbformat": 4,
 "nbformat_minor": 5
}
